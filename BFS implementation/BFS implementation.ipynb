{
 "cells": [
  {
   "cell_type": "code",
   "execution_count": null,
   "metadata": {},
   "outputs": [],
   "source": [
    "'''\n",
    "graph = {\n",
    "    '0' : ['1','2'],\n",
    "    '1' : ['3', '4'],\n",
    "    '2' : ['5'],\n",
    "    '2' : ['6'],\n",
    "    '6' : ['7'],\n",
    "\n",
    "}\n",
    "'''"
   ]
  },
  {
   "cell_type": "code",
   "execution_count": 44,
   "metadata": {},
   "outputs": [],
   "source": [
    "class Node:\n",
    "    def __init__(self , value=None):\n",
    "        self.value = value\n",
    "        self.next = None\n",
    "        \n",
    "        \n",
    "class BFSGraph:\n",
    "    \n",
    "    # Constructor\n",
    "    def __init__(self):\n",
    "  \n",
    "        # default dictionary to store graph\n",
    "        #self.size = size\n",
    "        self.graph = [None]\n",
    "        \n",
    "    # function to add an node to graph\n",
    "    def addNode(self, s, d):\n",
    "        self.graph.append(None)\n",
    "        newNode = Node(d)\n",
    "        arrayValue = self.graph[s]\n",
    "        \n",
    "        if(arrayValue is None):\n",
    "            self.graph[s] = newNode\n",
    "        else:\n",
    "            while(arrayValue.next):\n",
    "                arrayValue = arrayValue.next\n",
    "            arrayValue.next = newNode\n",
    "            \n",
    "    # A function used by DFS\n",
    "    def BFSExplore(self, startVertex, visited = None):\n",
    "        if visited is None:\n",
    "            visited = []\n",
    "        visited.append(startVertex)\n",
    "        \n",
    "        \n",
    "        # adjacent to this vertex\n",
    "        #print(len(self.graph))\n",
    "        for i in range(len(self.graph)):\n",
    "            arrayValue = self.graph[i]\n",
    "            while (arrayValue):\n",
    "                if arrayValue.value not in visited:\n",
    "                    visited.append(arrayValue.value)\n",
    "                arrayValue = arrayValue.next\n",
    "        \n",
    "            \n",
    "            \n",
    "        return visited\n"
   ]
  },
  {
   "cell_type": "code",
   "execution_count": 45,
   "metadata": {},
   "outputs": [],
   "source": [
    "g = BFSGraph()\n",
    "g.addNode(0, 1)\n",
    "g.addNode(0, 2)\n",
    "g.addNode(1, 3)\n",
    "g.addNode(1, 4)\n",
    "g.addNode(2, 5)\n",
    "g.addNode(2, 6)\n",
    "g.addNode(6, 7)"
   ]
  },
  {
   "cell_type": "code",
   "execution_count": 46,
   "metadata": {},
   "outputs": [],
   "source": [
    "l = g.BFSExplore(0)"
   ]
  },
  {
   "cell_type": "code",
   "execution_count": 47,
   "metadata": {},
   "outputs": [
    {
     "name": "stdout",
     "output_type": "stream",
     "text": [
      "[0, 1, 2, 3, 4, 5, 6, 7]\n"
     ]
    }
   ],
   "source": [
    "print(l)"
   ]
  },
  {
   "cell_type": "code",
   "execution_count": 48,
   "metadata": {},
   "outputs": [],
   "source": [
    "g = BFSGraph()\n",
    "g.addNode(0, 1)\n",
    "g.addNode(0, 2)\n",
    "g.addNode(1, 2)\n",
    "g.addNode(2, 0)\n",
    "g.addNode(2, 3)\n",
    "g.addNode(3, 3)"
   ]
  },
  {
   "cell_type": "code",
   "execution_count": 49,
   "metadata": {},
   "outputs": [
    {
     "name": "stdout",
     "output_type": "stream",
     "text": [
      "[2, 1, 0, 3]\n"
     ]
    }
   ],
   "source": [
    "l = g.BFSExplore(2)\n",
    "print(l)"
   ]
  },
  {
   "cell_type": "code",
   "execution_count": null,
   "metadata": {},
   "outputs": [],
   "source": []
  }
 ],
 "metadata": {
  "kernelspec": {
   "display_name": "Python 3",
   "language": "python",
   "name": "python3"
  },
  "language_info": {
   "codemirror_mode": {
    "name": "ipython",
    "version": 3
   },
   "file_extension": ".py",
   "mimetype": "text/x-python",
   "name": "python",
   "nbconvert_exporter": "python",
   "pygments_lexer": "ipython3",
   "version": "3.7.3"
  }
 },
 "nbformat": 4,
 "nbformat_minor": 2
}
