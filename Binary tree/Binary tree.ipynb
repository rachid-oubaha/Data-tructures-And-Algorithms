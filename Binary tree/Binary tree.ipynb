{
 "cells": [
  {
   "cell_type": "code",
   "execution_count": null,
   "metadata": {},
   "outputs": [],
   "source": []
  },
  {
   "cell_type": "code",
   "execution_count": 176,
   "metadata": {},
   "outputs": [],
   "source": [
    "#node class\n",
    "class Node:\n",
    "    def __init__(self, value):\n",
    "        self.value = value\n",
    "        self.left = None\n",
    "        self.right = None\n",
    "\n",
    "#Binary tree class\n",
    "class BinaryTree:\n",
    "    def __init__(self):\n",
    "        self.root = None\n",
    "    \n",
    "    def add(self, value):\n",
    "        self._add(value, self.root)\n",
    "        \n",
    "    def _add(self, value , node):\n",
    "        #node = self.root\n",
    "        if self.root is None:\n",
    "            self.root = Node(value)\n",
    "        else:\n",
    "            if value < node.value:\n",
    "                if node.left is None:\n",
    "                    node.left = Node(value)\n",
    "                else:\n",
    "                    #self.root = self.root.left\n",
    "                    self._add(value, node.left) #, node.left\n",
    "            else:\n",
    "                if node.right is None:\n",
    "                    node.right = Node(value)\n",
    "                else:\n",
    "                    #self.root = self.root.right\n",
    "                    self._add(value, node.right) #, node.right\n",
    "\n",
    "    def search(self, value):\n",
    "        if self.root is not None:\n",
    "            self._search(value, self.root)\n",
    "        \n",
    "    def _search(self, value , node):\n",
    "        \n",
    "        if node is None:\n",
    "            print(\"Not found !\")\n",
    "       \n",
    "        elif value == node.value:\n",
    "            print(\"Found !\")\n",
    "        \n",
    "        elif value < node.value:\n",
    "            \n",
    "            self._search(value, node.left)\n",
    "            \n",
    "        elif value > node.value:\n",
    "            \n",
    "            self._search(value, node.right)\n",
    "            \n",
    "            \n",
    "    def printTree(self):\n",
    "        if self.root is not None:\n",
    "            self._printTree(self.root)\n",
    "\n",
    "            \n",
    "    def _printTree(self, node):\n",
    "        if node is not None:\n",
    "            self._printTree(node.left)\n",
    "            print(str(node.value) + ' ')\n",
    "            self._printTree(node.right)\n",
    "            \n",
    "        \n",
    "    "
   ]
  },
  {
   "cell_type": "code",
   "execution_count": 177,
   "metadata": {},
   "outputs": [],
   "source": [
    "#main\n",
    "tree = BinaryTree()\n",
    "tree.add(3)\n",
    "tree.add(5)\n",
    "tree.add(6)\n",
    "tree.add(10)\n"
   ]
  },
  {
   "cell_type": "code",
   "execution_count": 178,
   "metadata": {},
   "outputs": [
    {
     "name": "stdout",
     "output_type": "stream",
     "text": [
      "Found !\n",
      "None\n",
      "Found !\n",
      "None\n",
      "Not found !\n",
      "None\n"
     ]
    }
   ],
   "source": [
    "print(tree.search(6))\n",
    "print(tree.search(10))\n",
    "print(tree.search(12))"
   ]
  },
  {
   "cell_type": "code",
   "execution_count": 179,
   "metadata": {},
   "outputs": [
    {
     "name": "stdout",
     "output_type": "stream",
     "text": [
      "3 \n",
      "5 \n",
      "6 \n",
      "10 \n"
     ]
    }
   ],
   "source": [
    "tree.printTree()"
   ]
  },
  {
   "cell_type": "code",
   "execution_count": null,
   "metadata": {},
   "outputs": [],
   "source": []
  },
  {
   "cell_type": "code",
   "execution_count": null,
   "metadata": {},
   "outputs": [],
   "source": []
  }
 ],
 "metadata": {
  "kernelspec": {
   "display_name": "Python 3",
   "language": "python",
   "name": "python3"
  },
  "language_info": {
   "codemirror_mode": {
    "name": "ipython",
    "version": 3
   },
   "file_extension": ".py",
   "mimetype": "text/x-python",
   "name": "python",
   "nbconvert_exporter": "python",
   "pygments_lexer": "ipython3",
   "version": "3.7.3"
  }
 },
 "nbformat": 4,
 "nbformat_minor": 2
}
