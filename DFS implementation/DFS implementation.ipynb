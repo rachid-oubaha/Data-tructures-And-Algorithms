{
 "cells": [
  {
   "cell_type": "code",
   "execution_count": null,
   "metadata": {},
   "outputs": [],
   "source": []
  },
  {
   "cell_type": "code",
   "execution_count": 78,
   "metadata": {},
   "outputs": [
    {
     "data": {
      "text/plain": [
       "\"\\ngraph = {\\n    '0' : ['1','2'],\\n    '1' : ['3', '4'],\\n    '2' : ['5'],\\n    '2' : ['6'],\\n    '6' : ['7'],\\n\\n}\\n\""
      ]
     },
     "execution_count": 78,
     "metadata": {},
     "output_type": "execute_result"
    }
   ],
   "source": [
    "'''\n",
    "graph = {\n",
    "    '0' : ['1','2'],\n",
    "    '1' : ['3', '4'],\n",
    "    '2' : ['5'],\n",
    "    '2' : ['6'],\n",
    "    '6' : ['7'],\n",
    "\n",
    "}\n",
    "'''"
   ]
  },
  {
   "cell_type": "code",
   "execution_count": 19,
   "metadata": {},
   "outputs": [],
   "source": [
    "class Node:\n",
    "    def __init__(self , value=None):\n",
    "        self.value = value\n",
    "        self.next = None\n",
    "        \n",
    "        \n",
    "class DFSGraph:\n",
    "    \n",
    "    # Constructor\n",
    "    def __init__(self):\n",
    "  \n",
    "        # default dictionary to store graph\n",
    "        #self.size = size\n",
    "        self.graph = [None]\n",
    "        \n",
    "    # function to add an node to graph\n",
    "    def addNode(self, s, d):\n",
    "        self.graph.append(None)\n",
    "        newNode = Node(d)\n",
    "        arrayValue = self.graph[s]\n",
    "        \n",
    "        if(arrayValue is None):\n",
    "            self.graph[s] = newNode\n",
    "        else:\n",
    "            while(arrayValue.next):\n",
    "                arrayValue = arrayValue.next\n",
    "            arrayValue.next = newNode\n",
    "            \n",
    "    # A function used by DFS\n",
    "    def DFSExplore(self, startVertex, visited = None):\n",
    "        if visited is None:\n",
    "            visited = []\n",
    "        visited.append(startVertex)\n",
    "        \n",
    "        \n",
    "        # adjacent to this vertex\n",
    "        arrayValue = self.graph[startVertex]\n",
    "        while (arrayValue):\n",
    "            if arrayValue.value not in visited:\n",
    "                self.DFSExplore(arrayValue.value, visited)\n",
    "            arrayValue = arrayValue.next\n",
    "            \n",
    "            \n",
    "        return visited[::-1] # to reverse the list\n"
   ]
  },
  {
   "cell_type": "code",
   "execution_count": 20,
   "metadata": {},
   "outputs": [],
   "source": [
    "g = DFSGraph()\n",
    "g.addNode(0, 1)\n",
    "g.addNode(0, 2)\n",
    "g.addNode(1, 3)\n",
    "g.addNode(1, 4)\n",
    "g.addNode(2, 5)\n",
    "g.addNode(2, 6)\n",
    "g.addNode(6, 7)\n"
   ]
  },
  {
   "cell_type": "code",
   "execution_count": 21,
   "metadata": {},
   "outputs": [],
   "source": [
    "l = g.DFSExplore(0)"
   ]
  },
  {
   "cell_type": "code",
   "execution_count": 22,
   "metadata": {},
   "outputs": [
    {
     "name": "stdout",
     "output_type": "stream",
     "text": [
      "[7, 6, 5, 2, 4, 3, 1, 0]\n"
     ]
    }
   ],
   "source": [
    "print(l)"
   ]
  },
  {
   "cell_type": "code",
   "execution_count": null,
   "metadata": {},
   "outputs": [],
   "source": []
  }
 ],
 "metadata": {
  "kernelspec": {
   "display_name": "Python 3",
   "language": "python",
   "name": "python3"
  },
  "language_info": {
   "codemirror_mode": {
    "name": "ipython",
    "version": 3
   },
   "file_extension": ".py",
   "mimetype": "text/x-python",
   "name": "python",
   "nbconvert_exporter": "python",
   "pygments_lexer": "ipython3",
   "version": "3.7.3"
  }
 },
 "nbformat": 4,
 "nbformat_minor": 2
}
