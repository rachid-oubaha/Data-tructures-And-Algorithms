{
 "cells": [
  {
   "cell_type": "code",
   "execution_count": 6,
   "metadata": {},
   "outputs": [],
   "source": [
    "import random"
   ]
  },
  {
   "cell_type": "code",
   "execution_count": 62,
   "metadata": {},
   "outputs": [
    {
     "name": "stdout",
     "output_type": "stream",
     "text": [
      "[9, 4, 3, 10, 6, 7, 2, 8, 1, 5]\n"
     ]
    }
   ],
   "source": [
    "list  = random.sample(range(1,11), 10)\n",
    "print(list)"
   ]
  },
  {
   "cell_type": "code",
   "execution_count": 59,
   "metadata": {},
   "outputs": [
    {
     "name": "stdout",
     "output_type": "stream",
     "text": [
      "before sorting : [1, 2, 3, 4, 5, 6, 7, 8, 9, 10]\n",
      "after sorting : [1, 2, 3, 4, 5, 6, 7, 8, 9, 10]\n"
     ]
    }
   ],
   "source": [
    "#Bubble sort Algorithm\n",
    "def bubbleSort(list):\n",
    "    n = len(list)\n",
    "    for i in range(n-1):\n",
    "        for j in range(0,n-i-1):\n",
    "            if list[j] > list[j + 1] :\n",
    "                list[j], list[j + 1] = list[j + 1], list[j]\n",
    "\n",
    "#main\n",
    "print(\"before sorting :\",list)\n",
    "bubbleSort(list)\n",
    "print(\"after sorting :\",list)"
   ]
  },
  {
   "cell_type": "code",
   "execution_count": 26,
   "metadata": {},
   "outputs": [
    {
     "name": "stdout",
     "output_type": "stream",
     "text": [
      "before sorting : [7, 5, 3, 1, 6, 10, 4, 9, 8, 2]\n",
      "after sorting : [1, 2, 3, 4, 5, 6, 7, 8, 9, 10]\n"
     ]
    }
   ],
   "source": [
    "#Merge Sort implementation\n",
    "def mergeSort(list):\n",
    "    if len(list) > 1:\n",
    "        #divide to small problem\n",
    "        middle = len(list)//2\n",
    "        \n",
    "        # Recursive call on each half\n",
    "        #left part\n",
    "        left = list[:middle]\n",
    "        mergeSort(left) \n",
    "        \n",
    "        #right part\n",
    "        right = list[middle:]\n",
    "        mergeSort(right)\n",
    "        \n",
    "        \n",
    "        i = j = k = 0\n",
    "        \n",
    "        while i < len(left) and j < len(right):\n",
    "            if left[i] <= right[j]:\n",
    "                list[k] = left[i]\n",
    "                i , k = i + 1 , k + 1\n",
    "            else:\n",
    "                list[k] = right[j]\n",
    "                j , k = j + 1 , k + 1\n",
    "                \n",
    "        while i < len(left):\n",
    "            list[k] = left[i]\n",
    "            i , k = i + 1 , k + 1\n",
    "            \n",
    "        while j < len(right):\n",
    "            list[k] = right[j]\n",
    "            j , k = j + 1 , k + 1\n",
    "\n",
    "#main\n",
    "print(\"before sorting :\",list)\n",
    "mergeSort(list)\n",
    "print(\"after sorting :\",list)\n",
    "            "
   ]
  },
  {
   "cell_type": "code",
   "execution_count": 35,
   "metadata": {},
   "outputs": [
    {
     "name": "stdout",
     "output_type": "stream",
     "text": [
      "before sorting : [9, 2, 7, 4, 10, 5, 8, 3, 1, 6]\n",
      "after sorting : [1, 2, 3, 4, 5, 6, 7, 8, 9, 10]\n"
     ]
    }
   ],
   "source": [
    "#Heap Sort implementation\n",
    "def heapify(list, index , n):\n",
    "    leftNodeIndex = 2 * index + 1\n",
    "    rightNodeIndex = 2* index\n",
    "    newIndex = index\n",
    "    \n",
    "    if leftNodeIndex < n and list[leftNodeIndex] > list[newIndex]:\n",
    "        newIndex = leftNodeIndex\n",
    "        \n",
    "    if rightNodeIndex < n and list[rightNodeIndex] > list[newIndex]:  #arr[largest] < arr[r]\n",
    "        newIndex = rightNodeIndex\n",
    "        \n",
    "    # swap\n",
    "    if newIndex != index:\n",
    "        list[index],list[newIndex] = list[newIndex], list[index]\n",
    "        heapify(list, newIndex , n)\n",
    "        \n",
    "        \n",
    "\n",
    "def heapSort(list):\n",
    "    n = len(list)-1\n",
    "    for i in range(n//2 ,-1,-1):\n",
    "        heapify(list,i,n)\n",
    "        \n",
    "    for i in range(n,0,-1):\n",
    "        list[i], list[0] = list[0], list[i]\n",
    "        heapify(list,0,i)\n",
    "\n",
    "\n",
    "#main\n",
    "print(\"before sorting :\",list)\n",
    "heapSort(list)\n",
    "print(\"after sorting :\",list)"
   ]
  },
  {
   "cell_type": "code",
   "execution_count": 49,
   "metadata": {},
   "outputs": [
    {
     "name": "stdout",
     "output_type": "stream",
     "text": [
      "before sorting : [1, 5, 7, 9, 10, 8, 2, 3, 6, 4]\n",
      "after sorting : [1, 2, 3, 4, 9, 5, 6, 7, 8, 10]\n"
     ]
    }
   ],
   "source": [
    "# Quick Sort implementation\n",
    "def quickSort(list, low, high):\n",
    "    \n",
    "    if low < high:\n",
    "        middle = (high + low) // 2\n",
    "        pivot = list[middle]\n",
    "        i , j = low, high\n",
    "\n",
    "        while(i <= j):\n",
    "\n",
    "            while(list[i] < pivot):\n",
    "                i += 1\n",
    "\n",
    "            while(list[j] > pivot):\n",
    "                j -= 1\n",
    "\n",
    "            if (i <= j):\n",
    "                list[i],list[j]= list[j],list[i]\n",
    "                i += 1\n",
    "                j -= 1\n",
    "        if (low < i-1):\n",
    "            quickSort(list,  low, pivot - 1)\n",
    "        if (i < high):\n",
    "            quickSort(list, pivot + 1, high)\n",
    "\n",
    "#main\n",
    "print(\"before sorting :\",list)\n",
    "quickSort(list, 0, len(list)-1)\n",
    "print(\"after sorting :\",list)"
   ]
  },
  {
   "cell_type": "code",
   "execution_count": 63,
   "metadata": {},
   "outputs": [
    {
     "name": "stdout",
     "output_type": "stream",
     "text": [
      "before sorting : [9, 4, 3, 10, 6, 7, 2, 8, 1, 5]\n",
      "after sorting : [1, 2, 3, 4, 5, 6, 7, 8, 9, 10]\n"
     ]
    }
   ],
   "source": [
    "# Quick Sort implementation\n",
    "def quickSort(list):\n",
    "    if len(list) <= 1:\n",
    "        return list\n",
    "    \n",
    "   \n",
    "    pivot = list[len(list) // 2]\n",
    "    low = [x for x in list if x < pivot]\n",
    "    middle = [x for x in list if x == pivot]\n",
    "    high = [x for x in list if x > pivot]\n",
    "\n",
    "    \n",
    "    return quickSort(low) + middle + quickSort(high)\n",
    "\n",
    "#main\n",
    "print(\"before sorting :\",list)\n",
    "list = quickSort(list)\n",
    "print(\"after sorting :\",list)"
   ]
  },
  {
   "cell_type": "code",
   "execution_count": null,
   "metadata": {},
   "outputs": [],
   "source": []
  }
 ],
 "metadata": {
  "kernelspec": {
   "display_name": "Python 3",
   "language": "python",
   "name": "python3"
  },
  "language_info": {
   "codemirror_mode": {
    "name": "ipython",
    "version": 3
   },
   "file_extension": ".py",
   "mimetype": "text/x-python",
   "name": "python",
   "nbconvert_exporter": "python",
   "pygments_lexer": "ipython3",
   "version": "3.7.3"
  }
 },
 "nbformat": 4,
 "nbformat_minor": 2
}
